{
 "cells": [
  {
   "cell_type": "code",
   "execution_count": 4,
   "metadata": {
    "colab": {
     "base_uri": "https://localhost:8080/"
    },
    "id": "ZCYUNbitr4Ee",
    "outputId": "3bc6c436-fa21-4da1-a3cb-31a826cc177d"
   },
   "outputs": [
    {
     "name": "stdout",
     "output_type": "stream",
     "text": [
      "Requirement already satisfied: librosa in c:\\users\\juyon\\anaconda3\\lib\\site-packages (0.10.2.post1)\n",
      "Requirement already satisfied: audioread>=2.1.9 in c:\\users\\juyon\\anaconda3\\lib\\site-packages (from librosa) (3.0.1)\n",
      "Requirement already satisfied: numpy!=1.22.0,!=1.22.1,!=1.22.2,>=1.20.3 in c:\\users\\juyon\\anaconda3\\lib\\site-packages (from librosa) (1.24.4)\n",
      "Requirement already satisfied: scipy>=1.2.0 in c:\\users\\juyon\\anaconda3\\lib\\site-packages (from librosa) (1.10.1)\n",
      "Requirement already satisfied: scikit-learn>=0.20.0 in c:\\users\\juyon\\anaconda3\\lib\\site-packages (from librosa) (1.3.0)\n",
      "Requirement already satisfied: joblib>=0.14 in c:\\users\\juyon\\anaconda3\\lib\\site-packages (from librosa) (1.2.0)\n",
      "Requirement already satisfied: decorator>=4.3.0 in c:\\users\\juyon\\anaconda3\\lib\\site-packages (from librosa) (5.1.1)\n",
      "Requirement already satisfied: numba>=0.51.0 in c:\\users\\juyon\\anaconda3\\lib\\site-packages (from librosa) (0.57.0)\n",
      "Requirement already satisfied: soundfile>=0.12.1 in c:\\users\\juyon\\anaconda3\\lib\\site-packages (from librosa) (0.12.1)\n",
      "Requirement already satisfied: pooch>=1.1 in c:\\users\\juyon\\anaconda3\\lib\\site-packages (from librosa) (1.4.0)\n",
      "Requirement already satisfied: soxr>=0.3.2 in c:\\users\\juyon\\anaconda3\\lib\\site-packages (from librosa) (0.5.0.post1)\n",
      "Requirement already satisfied: typing-extensions>=4.1.1 in c:\\users\\juyon\\anaconda3\\lib\\site-packages (from librosa) (4.7.1)\n",
      "Requirement already satisfied: lazy-loader>=0.1 in c:\\users\\juyon\\anaconda3\\lib\\site-packages (from librosa) (0.2)\n",
      "Requirement already satisfied: msgpack>=1.0 in c:\\users\\juyon\\anaconda3\\lib\\site-packages (from librosa) (1.0.3)\n",
      "Requirement already satisfied: llvmlite<0.41,>=0.40.0dev0 in c:\\users\\juyon\\anaconda3\\lib\\site-packages (from numba>=0.51.0->librosa) (0.40.0)\n",
      "Requirement already satisfied: requests in c:\\users\\juyon\\anaconda3\\lib\\site-packages (from pooch>=1.1->librosa) (2.31.0)\n",
      "Requirement already satisfied: packaging in c:\\users\\juyon\\anaconda3\\lib\\site-packages (from pooch>=1.1->librosa) (23.0)\n",
      "Requirement already satisfied: appdirs in c:\\users\\juyon\\anaconda3\\lib\\site-packages (from pooch>=1.1->librosa) (1.4.4)\n",
      "Requirement already satisfied: threadpoolctl>=2.0.0 in c:\\users\\juyon\\anaconda3\\lib\\site-packages (from scikit-learn>=0.20.0->librosa) (2.2.0)\n",
      "Requirement already satisfied: cffi>=1.0 in c:\\users\\juyon\\anaconda3\\lib\\site-packages (from soundfile>=0.12.1->librosa) (1.15.1)\n",
      "Requirement already satisfied: pycparser in c:\\users\\juyon\\anaconda3\\lib\\site-packages (from cffi>=1.0->soundfile>=0.12.1->librosa) (2.21)\n",
      "Requirement already satisfied: charset-normalizer<4,>=2 in c:\\users\\juyon\\anaconda3\\lib\\site-packages (from requests->pooch>=1.1->librosa) (2.0.4)\n",
      "Requirement already satisfied: idna<4,>=2.5 in c:\\users\\juyon\\anaconda3\\lib\\site-packages (from requests->pooch>=1.1->librosa) (3.4)\n",
      "Requirement already satisfied: urllib3<3,>=1.21.1 in c:\\users\\juyon\\anaconda3\\lib\\site-packages (from requests->pooch>=1.1->librosa) (1.26.16)\n",
      "Requirement already satisfied: certifi>=2017.4.17 in c:\\users\\juyon\\anaconda3\\lib\\site-packages (from requests->pooch>=1.1->librosa) (2023.7.22)\n"
     ]
    }
   ],
   "source": [
    "# !pip install pydub simpleaudio\n",
    "!pip install librosa"
   ]
  },
  {
   "cell_type": "code",
   "execution_count": 5,
   "metadata": {},
   "outputs": [
    {
     "name": "stdout",
     "output_type": "stream",
     "text": [
      "Requirement already satisfied: audioread in c:\\users\\juyon\\anaconda3\\lib\\site-packages (3.0.1)\n"
     ]
    }
   ],
   "source": [
    "!pip install audioread"
   ]
  },
  {
   "cell_type": "code",
   "execution_count": 27,
   "metadata": {},
   "outputs": [
    {
     "name": "stdout",
     "output_type": "stream",
     "text": [
      "Requirement already satisfied: filetype in c:\\users\\juyon\\anaconda3\\lib\\site-packages (1.2.0)\n",
      "Collecting moviepy\n",
      "  Downloading moviepy-1.0.3.tar.gz (388 kB)\n",
      "     ---------------------------------------- 0.0/388.3 kB ? eta -:--:--\n",
      "     -------------------------------------- 388.3/388.3 kB 8.0 MB/s eta 0:00:00\n",
      "  Preparing metadata (setup.py): started\n",
      "  Preparing metadata (setup.py): finished with status 'done'\n",
      "Collecting decorator<5.0,>=4.0.2 (from moviepy)\n",
      "  Obtaining dependency information for decorator<5.0,>=4.0.2 from https://files.pythonhosted.org/packages/ed/1b/72a1821152d07cf1d8b6fce298aeb06a7eb90f4d6d41acec9861e7cc6df0/decorator-4.4.2-py2.py3-none-any.whl.metadata\n",
      "  Downloading decorator-4.4.2-py2.py3-none-any.whl.metadata (4.2 kB)\n",
      "Requirement already satisfied: tqdm<5.0,>=4.11.2 in c:\\users\\juyon\\anaconda3\\lib\\site-packages (from moviepy) (4.65.0)\n",
      "Requirement already satisfied: requests<3.0,>=2.8.1 in c:\\users\\juyon\\anaconda3\\lib\\site-packages (from moviepy) (2.31.0)\n",
      "Collecting proglog<=1.0.0 (from moviepy)\n",
      "  Obtaining dependency information for proglog<=1.0.0 from https://files.pythonhosted.org/packages/8b/f5/cab5cf6a540c31f5099043de0ae43990fd9cf66f75ecb5e9f254a4e4d4ee/proglog-0.1.10-py3-none-any.whl.metadata\n",
      "  Downloading proglog-0.1.10-py3-none-any.whl.metadata (639 bytes)\n",
      "Requirement already satisfied: numpy>=1.17.3 in c:\\users\\juyon\\anaconda3\\lib\\site-packages (from moviepy) (1.24.4)\n",
      "Requirement already satisfied: imageio<3.0,>=2.5 in c:\\users\\juyon\\anaconda3\\lib\\site-packages (from moviepy) (2.26.0)\n",
      "Collecting imageio_ffmpeg>=0.2.0 (from moviepy)\n",
      "  Obtaining dependency information for imageio_ffmpeg>=0.2.0 from https://files.pythonhosted.org/packages/a9/1c/1b9c72bf839def47626436ea5ebaf643404f7850482c5fafd71a3deeaa94/imageio_ffmpeg-0.5.1-py3-none-win_amd64.whl.metadata\n",
      "  Downloading imageio_ffmpeg-0.5.1-py3-none-win_amd64.whl.metadata (1.6 kB)\n",
      "Requirement already satisfied: pillow>=8.3.2 in c:\\users\\juyon\\anaconda3\\lib\\site-packages (from imageio<3.0,>=2.5->moviepy) (9.4.0)\n",
      "Requirement already satisfied: setuptools in c:\\users\\juyon\\anaconda3\\lib\\site-packages (from imageio_ffmpeg>=0.2.0->moviepy) (68.0.0)\n",
      "Requirement already satisfied: charset-normalizer<4,>=2 in c:\\users\\juyon\\anaconda3\\lib\\site-packages (from requests<3.0,>=2.8.1->moviepy) (2.0.4)\n",
      "Requirement already satisfied: idna<4,>=2.5 in c:\\users\\juyon\\anaconda3\\lib\\site-packages (from requests<3.0,>=2.8.1->moviepy) (3.4)\n",
      "Requirement already satisfied: urllib3<3,>=1.21.1 in c:\\users\\juyon\\anaconda3\\lib\\site-packages (from requests<3.0,>=2.8.1->moviepy) (1.26.16)\n",
      "Requirement already satisfied: certifi>=2017.4.17 in c:\\users\\juyon\\anaconda3\\lib\\site-packages (from requests<3.0,>=2.8.1->moviepy) (2023.7.22)\n",
      "Requirement already satisfied: colorama in c:\\users\\juyon\\anaconda3\\lib\\site-packages (from tqdm<5.0,>=4.11.2->moviepy) (0.4.6)\n",
      "Downloading decorator-4.4.2-py2.py3-none-any.whl (9.2 kB)\n",
      "Downloading imageio_ffmpeg-0.5.1-py3-none-win_amd64.whl (22.6 MB)\n",
      "   ---------------------------------------- 0.0/22.6 MB ? eta -:--:--\n",
      "    --------------------------------------- 0.4/22.6 MB 13.9 MB/s eta 0:00:02\n",
      "   - -------------------------------------- 0.9/22.6 MB 9.0 MB/s eta 0:00:03\n",
      "   -- ------------------------------------- 1.3/22.6 MB 9.4 MB/s eta 0:00:03\n",
      "   --- ------------------------------------ 1.7/22.6 MB 10.0 MB/s eta 0:00:03\n",
      "   ---- ----------------------------------- 2.4/22.6 MB 11.0 MB/s eta 0:00:02\n",
      "   ----- ---------------------------------- 3.1/22.6 MB 11.5 MB/s eta 0:00:02\n",
      "   ------ --------------------------------- 3.7/22.6 MB 11.9 MB/s eta 0:00:02\n",
      "   ------- -------------------------------- 4.2/22.6 MB 11.6 MB/s eta 0:00:02\n",
      "   -------- ------------------------------- 4.6/22.6 MB 11.3 MB/s eta 0:00:02\n",
      "   -------- ------------------------------- 5.1/22.6 MB 11.1 MB/s eta 0:00:02\n",
      "   --------- ------------------------------ 5.4/22.6 MB 10.9 MB/s eta 0:00:02\n",
      "   ---------- ----------------------------- 5.9/22.6 MB 10.9 MB/s eta 0:00:02\n",
      "   ----------- ---------------------------- 6.5/22.6 MB 10.9 MB/s eta 0:00:02\n",
      "   ------------ --------------------------- 7.0/22.6 MB 10.9 MB/s eta 0:00:02\n",
      "   ------------- -------------------------- 7.6/22.6 MB 11.0 MB/s eta 0:00:02\n",
      "   -------------- ------------------------- 7.9/22.6 MB 10.8 MB/s eta 0:00:02\n",
      "   --------------- ------------------------ 8.6/22.6 MB 11.0 MB/s eta 0:00:02\n",
      "   --------------- ------------------------ 9.0/22.6 MB 10.8 MB/s eta 0:00:02\n",
      "   ---------------- ----------------------- 9.3/22.6 MB 10.6 MB/s eta 0:00:02\n",
      "   ----------------- ---------------------- 9.9/22.6 MB 10.7 MB/s eta 0:00:02\n",
      "   ------------------ --------------------- 10.4/22.6 MB 10.9 MB/s eta 0:00:02\n",
      "   ------------------- -------------------- 11.0/22.6 MB 10.9 MB/s eta 0:00:02\n",
      "   -------------------- ------------------- 11.4/22.6 MB 10.7 MB/s eta 0:00:02\n",
      "   --------------------- ------------------ 12.0/22.6 MB 10.9 MB/s eta 0:00:01\n",
      "   ---------------------- ----------------- 12.5/22.6 MB 10.9 MB/s eta 0:00:01\n",
      "   ---------------------- ----------------- 12.9/22.6 MB 10.7 MB/s eta 0:00:01\n",
      "   ----------------------- ---------------- 13.2/22.6 MB 10.4 MB/s eta 0:00:01\n",
      "   ------------------------ --------------- 13.8/22.6 MB 10.4 MB/s eta 0:00:01\n",
      "   ------------------------- -------------- 14.3/22.6 MB 10.4 MB/s eta 0:00:01\n",
      "   -------------------------- ------------- 14.7/22.6 MB 10.2 MB/s eta 0:00:01\n",
      "   -------------------------- ------------- 15.1/22.6 MB 10.6 MB/s eta 0:00:01\n",
      "   --------------------------- ------------ 15.7/22.6 MB 10.6 MB/s eta 0:00:01\n",
      "   ---------------------------- ----------- 16.2/22.6 MB 10.6 MB/s eta 0:00:01\n",
      "   ----------------------------- ---------- 16.6/22.6 MB 10.4 MB/s eta 0:00:01\n",
      "   ------------------------------ --------- 17.2/22.6 MB 10.4 MB/s eta 0:00:01\n",
      "   ------------------------------- -------- 17.7/22.6 MB 10.2 MB/s eta 0:00:01\n",
      "   -------------------------------- ------- 18.2/22.6 MB 10.6 MB/s eta 0:00:01\n",
      "   --------------------------------- ------ 18.8/22.6 MB 10.4 MB/s eta 0:00:01\n",
      "   ---------------------------------- ----- 19.5/22.6 MB 10.9 MB/s eta 0:00:01\n",
      "   ----------------------------------- ---- 19.9/22.6 MB 10.7 MB/s eta 0:00:01\n",
      "   ----------------------------------- ---- 19.9/22.6 MB 10.7 MB/s eta 0:00:01\n",
      "   ----------------------------------- ---- 19.9/22.6 MB 10.7 MB/s eta 0:00:01\n",
      "   ----------------------------------- ---- 19.9/22.6 MB 10.7 MB/s eta 0:00:01\n",
      "   ----------------------------------- ---- 19.9/22.6 MB 10.7 MB/s eta 0:00:01\n",
      "   ----------------------------------- ---- 19.9/22.6 MB 8.7 MB/s eta 0:00:01\n",
      "   ------------------------------------ --- 20.4/22.6 MB 8.6 MB/s eta 0:00:01\n",
      "   ------------------------------------ --- 20.6/22.6 MB 8.5 MB/s eta 0:00:01\n",
      "   ------------------------------------ --- 20.6/22.6 MB 8.2 MB/s eta 0:00:01\n",
      "   ------------------------------------ --- 20.6/22.6 MB 8.2 MB/s eta 0:00:01\n",
      "   ------------------------------------- -- 21.0/22.6 MB 7.7 MB/s eta 0:00:01\n",
      "   -------------------------------------- - 21.5/22.6 MB 7.9 MB/s eta 0:00:01\n",
      "   -------------------------------------- - 22.0/22.6 MB 7.8 MB/s eta 0:00:01\n",
      "   ---------------------------------------  22.6/22.6 MB 7.9 MB/s eta 0:00:01\n",
      "   ---------------------------------------  22.6/22.6 MB 7.9 MB/s eta 0:00:01\n",
      "   ---------------------------------------- 22.6/22.6 MB 7.4 MB/s eta 0:00:00\n",
      "Downloading proglog-0.1.10-py3-none-any.whl (6.1 kB)\n",
      "Building wheels for collected packages: moviepy\n",
      "  Building wheel for moviepy (setup.py): started\n",
      "  Building wheel for moviepy (setup.py): finished with status 'done'\n",
      "  Created wheel for moviepy: filename=moviepy-1.0.3-py3-none-any.whl size=110773 sha256=a9e17e911fcac114b08ed2872e6521261fcd6607739d5347d472454a13d8b1d4\n",
      "  Stored in directory: c:\\users\\juyon\\appdata\\local\\pip\\cache\\wheels\\83\\b1\\d9\\119ef7c144b44d591ec0a9a140465133c23ea95d2a161184ba\n",
      "Successfully built moviepy\n",
      "Installing collected packages: imageio_ffmpeg, decorator, proglog, moviepy\n",
      "  Attempting uninstall: decorator\n",
      "    Found existing installation: decorator 5.1.1\n",
      "    Uninstalling decorator-5.1.1:\n",
      "      Successfully uninstalled decorator-5.1.1\n",
      "Successfully installed decorator-4.4.2 imageio_ffmpeg-0.5.1 moviepy-1.0.3 proglog-0.1.10\n"
     ]
    }
   ],
   "source": [
    "!pip install filetype\n",
    "!pip install moviepy"
   ]
  },
  {
   "cell_type": "code",
   "execution_count": 28,
   "metadata": {
    "id": "A49KoNFus452"
   },
   "outputs": [
    {
     "name": "stdout",
     "output_type": "stream",
     "text": [
      "File extension: mp4\n",
      "File MIME type: video/mp4\n"
     ]
    }
   ],
   "source": [
    "# 오디오 파일 경로\n",
    "import filetype\n",
    "from moviepy.editor import VideoFileClip\n",
    "\n",
    "file1 = 'C:/Users/juyon/Desktop/MyVersion/music_samples/저스디스mr제거.mp3'\n",
    "file2 = 'C:/Users/juyon/Desktop/MyVersion/music_samples/일반인_무반주.mp3'\n",
    "file3 = 'C:/Users/juyon/Desktop/MyVersion/music_samples/시은이.mp4'\n",
    "\n",
    "\n",
    "# 파일 형식 확인\n",
    "kind = filetype.guess(file3)\n",
    "\n",
    "if kind is None:\n",
    "    print('Cannot guess file type!')\n",
    "else:\n",
    "    print(f'File extension: {kind.extension}')\n",
    "    print(f'File MIME type: {kind.mime}')\n",
    "\n",
    "# 파일 확장자 문제 있었음. 음원 파일이 mp3가 아니라 mp4등의 비디오 파일인 경우는 librosa에서 지원하지 않으므로 moviepy를 이용해서 mp3로 변환 한 후에 사용\n",
    "# 파일 확장자만 바꾼다고 형식이 바뀌지는 않음."
   ]
  },
  {
   "cell_type": "code",
   "execution_count": 6,
   "metadata": {
    "id": "hH_fJ6hKKkMn"
   },
   "outputs": [],
   "source": [
    "import librosa\n",
    "import librosa.display\n",
    "import matplotlib.pyplot as plt\n",
    "import numpy as np\n",
    "import pandas as pd\n",
    "import os\n",
    "import matplotlib.animation as animation\n",
    "import soundfile as sf\n",
    "import base64\n",
    "\n",
    "\n",
    "# from pydub import AudioSegment\n",
    "# from pydub.playback import play\n",
    "# import threading\n",
    "\n",
    "from IPython.display import Audio, display, HTML\n",
    "from matplotlib import rc\n",
    "from IPython.display import Video\n",
    "\n",
    "rc('animation', html='jshtml')"
   ]
  },
  {
   "cell_type": "code",
   "execution_count": 26,
   "metadata": {
    "colab": {
     "base_uri": "https://localhost:8080/"
    },
    "id": "rwzEl462Kz71",
    "outputId": "2ebd6f84-3ea3-4cda-b19c-b89016c512ae",
    "scrolled": false
   },
   "outputs": [
    {
     "name": "stderr",
     "output_type": "stream",
     "text": [
      "C:\\Users\\juyon\\AppData\\Local\\Temp\\ipykernel_75668\\1017883096.py:4: UserWarning: PySoundFile failed. Trying audioread instead.\n",
      "  y3, sr3 = librosa.load(file3)\n"
     ]
    },
    {
     "ename": "NoBackendError",
     "evalue": "",
     "output_type": "error",
     "traceback": [
      "\u001b[1;31m---------------------------------------------------------------------------\u001b[0m",
      "\u001b[1;31mLibsndfileError\u001b[0m                           Traceback (most recent call last)",
      "File \u001b[1;32m~\\anaconda3\\Lib\\site-packages\\librosa\\core\\audio.py:176\u001b[0m, in \u001b[0;36mload\u001b[1;34m(path, sr, mono, offset, duration, dtype, res_type)\u001b[0m\n\u001b[0;32m    175\u001b[0m \u001b[38;5;28;01mtry\u001b[39;00m:\n\u001b[1;32m--> 176\u001b[0m     y, sr_native \u001b[38;5;241m=\u001b[39m __soundfile_load(path, offset, duration, dtype)\n\u001b[0;32m    178\u001b[0m \u001b[38;5;28;01mexcept\u001b[39;00m sf\u001b[38;5;241m.\u001b[39mSoundFileRuntimeError \u001b[38;5;28;01mas\u001b[39;00m exc:\n\u001b[0;32m    179\u001b[0m     \u001b[38;5;66;03m# If soundfile failed, try audioread instead\u001b[39;00m\n",
      "File \u001b[1;32m~\\anaconda3\\Lib\\site-packages\\librosa\\core\\audio.py:209\u001b[0m, in \u001b[0;36m__soundfile_load\u001b[1;34m(path, offset, duration, dtype)\u001b[0m\n\u001b[0;32m    207\u001b[0m \u001b[38;5;28;01melse\u001b[39;00m:\n\u001b[0;32m    208\u001b[0m     \u001b[38;5;66;03m# Otherwise, create the soundfile object\u001b[39;00m\n\u001b[1;32m--> 209\u001b[0m     context \u001b[38;5;241m=\u001b[39m sf\u001b[38;5;241m.\u001b[39mSoundFile(path)\n\u001b[0;32m    211\u001b[0m \u001b[38;5;28;01mwith\u001b[39;00m context \u001b[38;5;28;01mas\u001b[39;00m sf_desc:\n",
      "File \u001b[1;32m~\\anaconda3\\Lib\\site-packages\\soundfile.py:658\u001b[0m, in \u001b[0;36mSoundFile.__init__\u001b[1;34m(self, file, mode, samplerate, channels, subtype, endian, format, closefd)\u001b[0m\n\u001b[0;32m    656\u001b[0m \u001b[38;5;28mself\u001b[39m\u001b[38;5;241m.\u001b[39m_info \u001b[38;5;241m=\u001b[39m _create_info_struct(file, mode, samplerate, channels,\n\u001b[0;32m    657\u001b[0m                                  \u001b[38;5;28mformat\u001b[39m, subtype, endian)\n\u001b[1;32m--> 658\u001b[0m \u001b[38;5;28mself\u001b[39m\u001b[38;5;241m.\u001b[39m_file \u001b[38;5;241m=\u001b[39m \u001b[38;5;28mself\u001b[39m\u001b[38;5;241m.\u001b[39m_open(file, mode_int, closefd)\n\u001b[0;32m    659\u001b[0m \u001b[38;5;28;01mif\u001b[39;00m \u001b[38;5;28mset\u001b[39m(mode)\u001b[38;5;241m.\u001b[39missuperset(\u001b[38;5;124m'\u001b[39m\u001b[38;5;124mr+\u001b[39m\u001b[38;5;124m'\u001b[39m) \u001b[38;5;129;01mand\u001b[39;00m \u001b[38;5;28mself\u001b[39m\u001b[38;5;241m.\u001b[39mseekable():\n\u001b[0;32m    660\u001b[0m     \u001b[38;5;66;03m# Move write position to 0 (like in Python file objects)\u001b[39;00m\n",
      "File \u001b[1;32m~\\anaconda3\\Lib\\site-packages\\soundfile.py:1216\u001b[0m, in \u001b[0;36mSoundFile._open\u001b[1;34m(self, file, mode_int, closefd)\u001b[0m\n\u001b[0;32m   1215\u001b[0m     err \u001b[38;5;241m=\u001b[39m _snd\u001b[38;5;241m.\u001b[39msf_error(file_ptr)\n\u001b[1;32m-> 1216\u001b[0m     \u001b[38;5;28;01mraise\u001b[39;00m LibsndfileError(err, prefix\u001b[38;5;241m=\u001b[39m\u001b[38;5;124m\"\u001b[39m\u001b[38;5;124mError opening \u001b[39m\u001b[38;5;132;01m{0!r}\u001b[39;00m\u001b[38;5;124m: \u001b[39m\u001b[38;5;124m\"\u001b[39m\u001b[38;5;241m.\u001b[39mformat(\u001b[38;5;28mself\u001b[39m\u001b[38;5;241m.\u001b[39mname))\n\u001b[0;32m   1217\u001b[0m \u001b[38;5;28;01mif\u001b[39;00m mode_int \u001b[38;5;241m==\u001b[39m _snd\u001b[38;5;241m.\u001b[39mSFM_WRITE:\n\u001b[0;32m   1218\u001b[0m     \u001b[38;5;66;03m# Due to a bug in libsndfile version <= 1.0.25, frames != 0\u001b[39;00m\n\u001b[0;32m   1219\u001b[0m     \u001b[38;5;66;03m# when opening a named pipe in SFM_WRITE mode.\u001b[39;00m\n\u001b[0;32m   1220\u001b[0m     \u001b[38;5;66;03m# See http://github.com/erikd/libsndfile/issues/77.\u001b[39;00m\n",
      "\u001b[1;31mLibsndfileError\u001b[0m: Error opening 'C:/Users/juyon/Desktop/MyVersion/music_samples/시은이.mp4': Format not recognised.",
      "\nDuring handling of the above exception, another exception occurred:\n",
      "\u001b[1;31mNoBackendError\u001b[0m                            Traceback (most recent call last)",
      "Cell \u001b[1;32mIn[26], line 4\u001b[0m\n\u001b[0;32m      2\u001b[0m y1, sr1 \u001b[38;5;241m=\u001b[39m librosa\u001b[38;5;241m.\u001b[39mload(file1)\n\u001b[0;32m      3\u001b[0m y2, sr2 \u001b[38;5;241m=\u001b[39m librosa\u001b[38;5;241m.\u001b[39mload(file2)\n\u001b[1;32m----> 4\u001b[0m y3, sr3 \u001b[38;5;241m=\u001b[39m librosa\u001b[38;5;241m.\u001b[39mload(file3)\n\u001b[0;32m      6\u001b[0m \u001b[38;5;66;03m# 기본 주파수 추정\u001b[39;00m\n\u001b[0;32m      7\u001b[0m f0, voiced_flag, voiced_probs \u001b[38;5;241m=\u001b[39m librosa\u001b[38;5;241m.\u001b[39mpyin(y1,sr\u001b[38;5;241m=\u001b[39msr1, fmin \u001b[38;5;241m=\u001b[39m librosa\u001b[38;5;241m.\u001b[39mnote_to_hz(\u001b[38;5;124m'\u001b[39m\u001b[38;5;124mC2\u001b[39m\u001b[38;5;124m'\u001b[39m), fmax\u001b[38;5;241m=\u001b[39mlibrosa\u001b[38;5;241m.\u001b[39mnote_to_hz(\u001b[38;5;124m'\u001b[39m\u001b[38;5;124mC7\u001b[39m\u001b[38;5;124m'\u001b[39m))\n",
      "File \u001b[1;32m~\\anaconda3\\Lib\\site-packages\\librosa\\core\\audio.py:184\u001b[0m, in \u001b[0;36mload\u001b[1;34m(path, sr, mono, offset, duration, dtype, res_type)\u001b[0m\n\u001b[0;32m    180\u001b[0m \u001b[38;5;28;01mif\u001b[39;00m \u001b[38;5;28misinstance\u001b[39m(path, (\u001b[38;5;28mstr\u001b[39m, pathlib\u001b[38;5;241m.\u001b[39mPurePath)):\n\u001b[0;32m    181\u001b[0m     warnings\u001b[38;5;241m.\u001b[39mwarn(\n\u001b[0;32m    182\u001b[0m         \u001b[38;5;124m\"\u001b[39m\u001b[38;5;124mPySoundFile failed. Trying audioread instead.\u001b[39m\u001b[38;5;124m\"\u001b[39m, stacklevel\u001b[38;5;241m=\u001b[39m\u001b[38;5;241m2\u001b[39m\n\u001b[0;32m    183\u001b[0m     )\n\u001b[1;32m--> 184\u001b[0m     y, sr_native \u001b[38;5;241m=\u001b[39m __audioread_load(path, offset, duration, dtype)\n\u001b[0;32m    185\u001b[0m \u001b[38;5;28;01melse\u001b[39;00m:\n\u001b[0;32m    186\u001b[0m     \u001b[38;5;28;01mraise\u001b[39;00m exc\n",
      "File \u001b[1;32m~\\anaconda3\\Lib\\site-packages\\decorator.py:232\u001b[0m, in \u001b[0;36mdecorate.<locals>.fun\u001b[1;34m(*args, **kw)\u001b[0m\n\u001b[0;32m    230\u001b[0m \u001b[38;5;28;01mif\u001b[39;00m \u001b[38;5;129;01mnot\u001b[39;00m kwsyntax:\n\u001b[0;32m    231\u001b[0m     args, kw \u001b[38;5;241m=\u001b[39m fix(args, kw, sig)\n\u001b[1;32m--> 232\u001b[0m \u001b[38;5;28;01mreturn\u001b[39;00m caller(func, \u001b[38;5;241m*\u001b[39m(extras \u001b[38;5;241m+\u001b[39m args), \u001b[38;5;241m*\u001b[39m\u001b[38;5;241m*\u001b[39mkw)\n",
      "File \u001b[1;32m~\\anaconda3\\Lib\\site-packages\\librosa\\util\\decorators.py:59\u001b[0m, in \u001b[0;36mdeprecated.<locals>.__wrapper\u001b[1;34m(func, *args, **kwargs)\u001b[0m\n\u001b[0;32m     50\u001b[0m \u001b[38;5;250m\u001b[39m\u001b[38;5;124;03m\"\"\"Warn the user, and then proceed.\"\"\"\u001b[39;00m\n\u001b[0;32m     51\u001b[0m warnings\u001b[38;5;241m.\u001b[39mwarn(\n\u001b[0;32m     52\u001b[0m     \u001b[38;5;124m\"\u001b[39m\u001b[38;5;132;01m{:s}\u001b[39;00m\u001b[38;5;124m.\u001b[39m\u001b[38;5;132;01m{:s}\u001b[39;00m\u001b[38;5;130;01m\\n\u001b[39;00m\u001b[38;5;130;01m\\t\u001b[39;00m\u001b[38;5;124mDeprecated as of librosa version \u001b[39m\u001b[38;5;132;01m{:s}\u001b[39;00m\u001b[38;5;124m.\u001b[39m\u001b[38;5;124m\"\u001b[39m\n\u001b[0;32m     53\u001b[0m     \u001b[38;5;124m\"\u001b[39m\u001b[38;5;130;01m\\n\u001b[39;00m\u001b[38;5;130;01m\\t\u001b[39;00m\u001b[38;5;124mIt will be removed in librosa version \u001b[39m\u001b[38;5;132;01m{:s}\u001b[39;00m\u001b[38;5;124m.\u001b[39m\u001b[38;5;124m\"\u001b[39m\u001b[38;5;241m.\u001b[39mformat(\n\u001b[1;32m   (...)\u001b[0m\n\u001b[0;32m     57\u001b[0m     stacklevel\u001b[38;5;241m=\u001b[39m\u001b[38;5;241m3\u001b[39m,  \u001b[38;5;66;03m# Would be 2, but the decorator adds a level\u001b[39;00m\n\u001b[0;32m     58\u001b[0m )\n\u001b[1;32m---> 59\u001b[0m \u001b[38;5;28;01mreturn\u001b[39;00m func(\u001b[38;5;241m*\u001b[39margs, \u001b[38;5;241m*\u001b[39m\u001b[38;5;241m*\u001b[39mkwargs)\n",
      "File \u001b[1;32m~\\anaconda3\\Lib\\site-packages\\librosa\\core\\audio.py:240\u001b[0m, in \u001b[0;36m__audioread_load\u001b[1;34m(path, offset, duration, dtype)\u001b[0m\n\u001b[0;32m    237\u001b[0m     reader \u001b[38;5;241m=\u001b[39m path\n\u001b[0;32m    238\u001b[0m \u001b[38;5;28;01melse\u001b[39;00m:\n\u001b[0;32m    239\u001b[0m     \u001b[38;5;66;03m# If the input was not an audioread object, try to open it\u001b[39;00m\n\u001b[1;32m--> 240\u001b[0m     reader \u001b[38;5;241m=\u001b[39m audioread\u001b[38;5;241m.\u001b[39maudio_open(path)\n\u001b[0;32m    242\u001b[0m \u001b[38;5;28;01mwith\u001b[39;00m reader \u001b[38;5;28;01mas\u001b[39;00m input_file:\n\u001b[0;32m    243\u001b[0m     sr_native \u001b[38;5;241m=\u001b[39m input_file\u001b[38;5;241m.\u001b[39msamplerate\n",
      "File \u001b[1;32m~\\anaconda3\\Lib\\site-packages\\audioread\\__init__.py:132\u001b[0m, in \u001b[0;36maudio_open\u001b[1;34m(path, backends)\u001b[0m\n\u001b[0;32m    129\u001b[0m         \u001b[38;5;28;01mpass\u001b[39;00m\n\u001b[0;32m    131\u001b[0m \u001b[38;5;66;03m# All backends failed!\u001b[39;00m\n\u001b[1;32m--> 132\u001b[0m \u001b[38;5;28;01mraise\u001b[39;00m NoBackendError()\n",
      "\u001b[1;31mNoBackendError\u001b[0m: "
     ]
    }
   ],
   "source": [
    "# 오디오 파일 로드\n",
    "y1, sr1 = librosa.load(file1)\n",
    "y2, sr2 = librosa.load(file2)\n",
    "y3, sr3 = librosa.load(file3)\n",
    "\n",
    "# 기본 주파수 추정\n",
    "f0, voiced_flag, voiced_probs = librosa.pyin(y1,sr=sr1, fmin = librosa.note_to_hz('C2'), fmax=librosa.note_to_hz('C7'))\n",
    "f0_2, voiced_flag_2, voiced_probs_2 = librosa.pyin(y2, sr = sr2, fmin = librosa.note_to_hz('C2'), fmax=librosa.note_to_hz('C7'))\n",
    "f0_3, voiced_flag_3, voiced_probs_3 = librosa.pyin(y3, sr = sr3, fmin = librosa.note_to_hz('C2'), fmax = librosa.note_to_hz('C7'))\n",
    "\n",
    "# NaN 값을 선형 보간법으로 채우기\n",
    "f0_interpolated = pd.Series(f0).interpolate().to_numpy()\n",
    "f0_2_interpolated = pd.Series(f0_2).interpolate().to_numpy()\n",
    "f0_3_interpolated = pd.Series(f0_3).interpolate().to_numpy()\n"
   ]
  },
  {
   "cell_type": "markdown",
   "metadata": {
    "id": "1FckfQQJQ7Bl"
   },
   "source": [
    "1옥타브\n",
    "C(도) 32\n",
    "D(레) 36\n",
    "E(미) 41\n",
    "F(파) 43\n",
    "G(솔) 48\n",
    "A(라) 55\n",
    "B(시) 61\n",
    "\n"
   ]
  },
  {
   "cell_type": "code",
   "execution_count": null,
   "metadata": {
    "colab": {
     "base_uri": "https://localhost:8080/",
     "height": 404
    },
    "id": "ZgZOzNU-QO72",
    "outputId": "81fdc37c-fdf3-426c-a893-bc89698262e4"
   },
   "outputs": [],
   "source": [
    "# 정적인 그래프 처리용 백엔드 모드\n",
    "%matplotlib inline\n",
    "\n",
    "# 시간 축 계산\n",
    "times = librosa.times_like(f0, sr=sr1)\n",
    "times_2 = librosa.times_like(f0_2, sr=sr2)\n",
    "times_3 = librosa.times_like(f0_3, sr=sr3)\n",
    "\n",
    "# 그래프로 주파수 시각화\n",
    "plt.figure(figsize=(14, 6))\n",
    "plt.plot(times, f0_interpolated, label='Estimated F0 - File 1', color='r')\n",
    "plt.plot(times_2, f0_2_interpolated, label='Estimated F0 - File 2', color='b')\n",
    "# plt.plot(times_3, f0_3_interpolated, label='Estimated F0 - FIle 3', color = 'y')\n",
    "\n",
    "# plt.xlabel('Time (s)')\n",
    "# plt.ylabel('Hz')\n",
    "# plt.title('Fundamental Frequency Over Time')\n",
    "plt.ylim([librosa.note_to_hz('C2'), 650])\n",
    "\n",
    "plt.show()"
   ]
  },
  {
   "cell_type": "code",
   "execution_count": null,
   "metadata": {
    "id": "LioZfsC4T3zv"
   },
   "outputs": [],
   "source": [
    "# 분석 위한 데이터 전처리\n",
    "def music_prep(music_1, music_2):\n",
    "\n",
    "  # 두 주파수 데이터의 최소 길이 맞추기\n",
    "  min_length = min(len(music_1), len(music_2))\n",
    "  music_1 = music_1[:min_length]\n",
    "  music_2 = music_2[:min_length]\n",
    "\n",
    "  # NaN 값이 있는 인덱스 제거\n",
    "  valid_idx = ~np.isnan(music_1) & ~np.isnan(music_2)\n",
    "  music_1_valid = music_1[valid_idx]\n",
    "  music_2_valid = music_2[valid_idx]\n",
    "  return music_1_valid, music_2_valid\n",
    "\n",
    "# 평균 유사도 계산\n",
    "def calc_similarity(music_1, music_2):\n",
    "  # 전처리\n",
    "  music_1, music_2 = music_prep(music_1, music_2)\n",
    "\n",
    "  # 두 주파수 값의 차이 계산\n",
    "  music_difference = np.abs(music_1 - music_2)\n",
    "\n",
    "  # 평균 절대 차이 계산\n",
    "  mean_difference = np.mean(music_difference)\n",
    "  print(\"mean_difference:\", mean_difference)\n",
    "\n",
    "  # 최대 주파수 범위, 비교 기준인 music_1의 주파수 범위\n",
    "  freq_scope =  max(music_1) - min(music_1)\n",
    "  print(\"freq:\", freq_scope)\n",
    "\n",
    "  # 평균 유사도 계산 (1-(평균 차이 / 주파수 범위))\n",
    "  similarity = (1 - (mean_difference / freq_scope)) * 100\n",
    "  print(f'The overall frequency similarity between the two audio files is approximately {similarity:.2f}%')\n",
    "\n",
    "# 가장 비슷한 부분 찾기\n",
    "def find_segment(music_1, music_2, sr, hop_length, time_length):\n",
    "  # 전처리\n",
    "  music_1, music_2 = music_prep(music_1, music_2)\n",
    "\n",
    "  # hop_length / sr = 한 프레임이 차지하는 시간\n",
    "  valid_duration_seconds = len(music_1) * hop_length / sr\n",
    "\n",
    "  # noticible_time_length (초) 만큼에 해당하는 프레임 갯수\n",
    "  frame_length = int(time_length / (hop_length / sr))\n",
    "\n",
    "  print(f'Duration of valid (non-NaN) data: {valid_duration_seconds:.2f} seconds')\n",
    "\n",
    "  # 두 주파수 값의 차이 계산\n",
    "  music_difference = np.abs(music_1 - music_2)\n",
    "\n",
    "  # 가장 큰 차이 값을 가지는 구간 찾기\n",
    "  max_diff = 0\n",
    "  max_index = 0\n",
    "  for i in range(len(music_difference) - frame_length +1):\n",
    "    current_diff = np.sum(music_difference[i:i+frame_length])\n",
    "    if current_diff > max_diff :\n",
    "      max_diff = current_diff\n",
    "      max_index = i\n",
    "  print(f'Maximum difference found in the frame range starting at index {max_index} with a total difference of {max_diff}')\n",
    "\n",
    "  # 해당 구간의 시간대 계산\n",
    "  start_time = max_index * hop_length / sr\n",
    "  end_time = (max_index + frame_length) * hop_length / sr\n",
    "  print(f'The most different segment is between {start_time:.2f} seconds and {end_time:.2f} seconds')\n",
    "\n",
    "  return start_time, end_time\n"
   ]
  },
  {
   "cell_type": "code",
   "execution_count": null,
   "metadata": {
    "id": "r_qNQagurVek"
   },
   "outputs": [],
   "source": [
    "def play_segment(file1, file2, start_time, end_time):\n",
    "  #오디오 파일 로드\n",
    "  audio1 = AudioSegment.from_file(file1)\n",
    "  audio2 = AudioSegment.from_file(file2)\n",
    "\n",
    "  #해당 시간 구간 추출\n",
    "  seg1 = audio1[start_time * 1000:end_time*1000] # 시간이 밀리초 단위\n",
    "  seg2 = audio2[start_time * 1000:end_time*1000] # 시간이 밀리초 단위\n",
    "\n",
    "  # 재생 함수 정의\n",
    "  def play_audio_segment(segment):\n",
    "    play(segment)\n",
    "\n",
    "  # 각각의 오디오 세그먼트를 재생할 스레드 생성\n",
    "  thread1 = threading.Thread(target=play_audio_segment, args = (seg1,))\n",
    "  thread2 = threading.Thread(target=play_audio_segment, args = (seg2,))\n",
    "\n",
    "  # 스레드를 시작하여 동시에 재생\n",
    "    thread2.start()  \n",
    "    thread1.start()\n",
    "  "
   ]
  },
  {
   "cell_type": "code",
   "execution_count": null,
   "metadata": {
    "colab": {
     "base_uri": "https://localhost:8080/"
    },
    "id": "_zF8QloCrB96",
    "outputId": "7435b630-4340-4c14-81a1-6c9c70abe3fb"
   },
   "outputs": [],
   "source": [
    "calc_similarity(music_1=f0_interpolated, music_2=f0_2_interpolated) # pyin defalut hop_length : 512\n",
    "start_time, end_time = find_segment(music_1=f0_interpolated, music_2=f0_2_interpolated, sr = sr1, hop_length= 512, time_length=5) # pyin defalut hop_length : 512\n",
    "\n",
    "# 해당 구간 동시 재생\n",
    "play_segment(file1, file2, start_time, end_time)"
   ]
  },
  {
   "cell_type": "code",
   "execution_count": null,
   "metadata": {
    "colab": {
     "base_uri": "https://localhost:8080/",
     "height": 1000
    },
    "id": "QnGWDjllqXP2",
    "outputId": "ff268292-27a9-4d42-c9e5-f7ffa56654f6"
   },
   "outputs": [],
   "source": [
    "# # 애니메이션 처리를 위해 인터랙티브 모드로 전환\n",
    "# %matplotlib notebook\n",
    "\n",
    "# def create_animation(y, sr, f0_interpolated, times, label, color):\n",
    "#     # 그래프 설정\n",
    "#     fig, ax = plt.subplots()\n",
    "#     ax.set_xlim(0, times[-1])\n",
    "#     ax.set_ylim(librosa.note_to_hz('C2'), 650)\n",
    "#     line, = ax.plot([], [], lw=2)\n",
    "\n",
    "#     # 오디오 전체 길이 (초 단위)\n",
    "#     audio_duration = len(y) / sr\n",
    "\n",
    "#     # 프레임 수 줄이기 : 10%만 사용\n",
    "#     reduced_frames = times[::10]\n",
    "#     reduced_f0 = f0_interpolated[::10]\n",
    "\n",
    "#     # 애니메이션 프레임 설정\n",
    "#     num_frames = len(reduced_frames)\n",
    "\n",
    "#     # 각 프레임 간격을 오디오 재생 시간에 맞게 조정\n",
    "#     interval = audio_duration / num_frames * 1000  # 밀리초 단위로 변환\n",
    "\n",
    "#     # 초기화 함수\n",
    "#     def init():\n",
    "#         line.set_data([], [])\n",
    "#         return line,\n",
    "\n",
    "#     # 업데이트 함수\n",
    "#     def update(frame):\n",
    "#         line.set_data(reduced_frames[:frame], reduced_f0[:frame])\n",
    "#         return line,\n",
    "\n",
    "#     # 라인 초기화\n",
    "#     line, = ax.plot([], [], label=label, color=color)\n",
    "\n",
    "#     # 애니메이션 생성\n",
    "#     ani = animation.FuncAnimation(fig, update, frames=num_frames, init_func=init, blit=False, interval=interval, repeat=False)\n",
    "\n",
    "#     anim_html = HTML(ani.to_jshtml())\n",
    "#     audio = Audio(y, rate=sr)\n",
    "\n",
    "#     return anim_html, audio\n",
    "\n",
    "# # 오디오 파일 로드\n",
    "# y1, sr1 = librosa.load('file1')\n",
    "# y2, sr2 = librosa.load('file2')\n",
    "\n",
    "# # 기본 주파수 추정\n",
    "# f0, voiced_flag, voiced_probs = librosa.pyin(y1, sr=sr1, fmin=librosa.note_to_hz('C2'), fmax=librosa.note_to_hz('C7'))\n",
    "# f0_2, voiced_flag_2, voiced_probs_2 = librosa.pyin(y2, sr=sr2, fmin=librosa.note_to_hz('C2'), fmax=librosa.note_to_hz('C7'))\n",
    "\n",
    "# # NaN 값을 선형 보간법으로 채우기\n",
    "# f0_interpolated = pd.Series(f0).interpolate().to_numpy()\n",
    "# f0_2_interpolated = pd.Series(f0_2).interpolate().to_numpy()\n",
    "\n",
    "# # 시간 축 계산\n",
    "# times = librosa.times_like(f0, sr=sr1)\n",
    "# times_2 = librosa.times_like(f0_2, sr=sr2)\n",
    "\n",
    "# # 애니메이션 및 오디오 생성\n",
    "# anim_html_1, audio_1 = create_animation(y1, sr1, f0_interpolated, times, 'Estimated F0 - File 1', 'r')\n",
    "# anim_html_2, audio_2 = create_animation(y2, sr2, f0_2_interpolated, times_2, 'Estimated F0 - File 2', 'b')\n",
    "\n",
    "# # 두 애니메이션과 오디오 플레이어를 표시\n",
    "# display(anim_html_1, audio_1)\n",
    "# display(anim_html_2, audio_2)"
   ]
  },
  {
   "cell_type": "code",
   "execution_count": null,
   "metadata": {
    "colab": {
     "base_uri": "https://localhost:8080/",
     "height": 490
    },
    "id": "SshAk0uXOiXY",
    "outputId": "21f63324-5a61-4277-ba81-2e6ce1c25f83"
   },
   "outputs": [],
   "source": [
    "# 스펙트로그램 표현\n",
    "D = librosa.amplitude_to_db(np.abs(librosa.stft(y1)), ref=np.max)\n",
    "fig, ax = plt.subplots()\n",
    "img = librosa.display.specshow(D, x_axis='time', y_axis='log', ax=ax)\n",
    "ax.set(title = 'pYIN fundamental frequency estimation')\n",
    "fig.colorbar(img, ax=ax, format=\"%+2.f dB\")\n",
    "ax.plot(times, f0, label='f0', color='cyan', linewidth=3)\n",
    "ax.legend(loc='upper right')"
   ]
  }
 ],
 "metadata": {
  "colab": {
   "provenance": []
  },
  "kernelspec": {
   "display_name": "Python 3 (ipykernel)",
   "language": "python",
   "name": "python3"
  },
  "language_info": {
   "codemirror_mode": {
    "name": "ipython",
    "version": 3
   },
   "file_extension": ".py",
   "mimetype": "text/x-python",
   "name": "python",
   "nbconvert_exporter": "python",
   "pygments_lexer": "ipython3",
   "version": "3.11.4"
  }
 },
 "nbformat": 4,
 "nbformat_minor": 1
}
