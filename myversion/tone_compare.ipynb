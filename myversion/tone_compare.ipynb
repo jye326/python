{
 "cells": [
  {
   "cell_type": "code",
   "execution_count": 1,
   "metadata": {
    "colab": {
     "base_uri": "https://localhost:8080/"
    },
    "id": "ZCYUNbitr4Ee",
    "outputId": "3bc6c436-fa21-4da1-a3cb-31a826cc177d"
   },
   "outputs": [
    {
     "name": "stdout",
     "output_type": "stream",
     "text": [
      "Requirement already satisfied: librosa in c:\\users\\juyon\\anaconda3\\lib\\site-packages (0.10.2.post1)\n",
      "Requirement already satisfied: audioread>=2.1.9 in c:\\users\\juyon\\anaconda3\\lib\\site-packages (from librosa) (3.0.1)\n",
      "Requirement already satisfied: numpy!=1.22.0,!=1.22.1,!=1.22.2,>=1.20.3 in c:\\users\\juyon\\anaconda3\\lib\\site-packages (from librosa) (1.24.4)\n",
      "Requirement already satisfied: scipy>=1.2.0 in c:\\users\\juyon\\anaconda3\\lib\\site-packages (from librosa) (1.10.1)\n",
      "Requirement already satisfied: scikit-learn>=0.20.0 in c:\\users\\juyon\\anaconda3\\lib\\site-packages (from librosa) (1.3.0)\n",
      "Requirement already satisfied: joblib>=0.14 in c:\\users\\juyon\\anaconda3\\lib\\site-packages (from librosa) (1.2.0)\n",
      "Requirement already satisfied: decorator>=4.3.0 in c:\\users\\juyon\\anaconda3\\lib\\site-packages (from librosa) (4.4.2)\n",
      "Requirement already satisfied: numba>=0.51.0 in c:\\users\\juyon\\anaconda3\\lib\\site-packages (from librosa) (0.57.0)\n",
      "Requirement already satisfied: soundfile>=0.12.1 in c:\\users\\juyon\\anaconda3\\lib\\site-packages (from librosa) (0.12.1)\n",
      "Requirement already satisfied: pooch>=1.1 in c:\\users\\juyon\\anaconda3\\lib\\site-packages (from librosa) (1.4.0)\n",
      "Requirement already satisfied: soxr>=0.3.2 in c:\\users\\juyon\\anaconda3\\lib\\site-packages (from librosa) (0.5.0.post1)\n",
      "Requirement already satisfied: typing-extensions>=4.1.1 in c:\\users\\juyon\\anaconda3\\lib\\site-packages (from librosa) (4.7.1)\n",
      "Requirement already satisfied: lazy-loader>=0.1 in c:\\users\\juyon\\anaconda3\\lib\\site-packages (from librosa) (0.2)\n",
      "Requirement already satisfied: msgpack>=1.0 in c:\\users\\juyon\\anaconda3\\lib\\site-packages (from librosa) (1.0.3)\n",
      "Requirement already satisfied: llvmlite<0.41,>=0.40.0dev0 in c:\\users\\juyon\\anaconda3\\lib\\site-packages (from numba>=0.51.0->librosa) (0.40.0)\n",
      "Requirement already satisfied: requests in c:\\users\\juyon\\anaconda3\\lib\\site-packages (from pooch>=1.1->librosa) (2.31.0)\n",
      "Requirement already satisfied: packaging in c:\\users\\juyon\\anaconda3\\lib\\site-packages (from pooch>=1.1->librosa) (23.0)\n",
      "Requirement already satisfied: appdirs in c:\\users\\juyon\\anaconda3\\lib\\site-packages (from pooch>=1.1->librosa) (1.4.4)\n",
      "Requirement already satisfied: threadpoolctl>=2.0.0 in c:\\users\\juyon\\anaconda3\\lib\\site-packages (from scikit-learn>=0.20.0->librosa) (2.2.0)\n",
      "Requirement already satisfied: cffi>=1.0 in c:\\users\\juyon\\anaconda3\\lib\\site-packages (from soundfile>=0.12.1->librosa) (1.15.1)\n",
      "Requirement already satisfied: pycparser in c:\\users\\juyon\\anaconda3\\lib\\site-packages (from cffi>=1.0->soundfile>=0.12.1->librosa) (2.21)\n",
      "Requirement already satisfied: charset-normalizer<4,>=2 in c:\\users\\juyon\\anaconda3\\lib\\site-packages (from requests->pooch>=1.1->librosa) (2.0.4)\n",
      "Requirement already satisfied: idna<4,>=2.5 in c:\\users\\juyon\\anaconda3\\lib\\site-packages (from requests->pooch>=1.1->librosa) (3.4)\n",
      "Requirement already satisfied: urllib3<3,>=1.21.1 in c:\\users\\juyon\\anaconda3\\lib\\site-packages (from requests->pooch>=1.1->librosa) (1.26.16)\n",
      "Requirement already satisfied: certifi>=2017.4.17 in c:\\users\\juyon\\anaconda3\\lib\\site-packages (from requests->pooch>=1.1->librosa) (2023.7.22)\n"
     ]
    }
   ],
   "source": [
    "!pip install librosa "
   ]
  },
  {
   "cell_type": "code",
   "execution_count": 2,
   "metadata": {},
   "outputs": [
    {
     "name": "stdout",
     "output_type": "stream",
     "text": [
      "Requirement already satisfied: audioread in c:\\users\\juyon\\anaconda3\\lib\\site-packages (3.0.1)\n",
      "Requirement already satisfied: filetype in c:\\users\\juyon\\anaconda3\\lib\\site-packages (1.2.0)\n",
      "Requirement already satisfied: moviepy in c:\\users\\juyon\\anaconda3\\lib\\site-packages (1.0.3)\n",
      "Requirement already satisfied: decorator<5.0,>=4.0.2 in c:\\users\\juyon\\anaconda3\\lib\\site-packages (from moviepy) (4.4.2)\n",
      "Requirement already satisfied: tqdm<5.0,>=4.11.2 in c:\\users\\juyon\\anaconda3\\lib\\site-packages (from moviepy) (4.65.0)\n",
      "Requirement already satisfied: requests<3.0,>=2.8.1 in c:\\users\\juyon\\anaconda3\\lib\\site-packages (from moviepy) (2.31.0)\n",
      "Requirement already satisfied: proglog<=1.0.0 in c:\\users\\juyon\\anaconda3\\lib\\site-packages (from moviepy) (0.1.10)\n",
      "Requirement already satisfied: numpy>=1.17.3 in c:\\users\\juyon\\anaconda3\\lib\\site-packages (from moviepy) (1.24.4)\n",
      "Requirement already satisfied: imageio<3.0,>=2.5 in c:\\users\\juyon\\anaconda3\\lib\\site-packages (from moviepy) (2.26.0)\n",
      "Requirement already satisfied: imageio-ffmpeg>=0.2.0 in c:\\users\\juyon\\anaconda3\\lib\\site-packages (from moviepy) (0.5.1)\n",
      "Requirement already satisfied: pillow>=8.3.2 in c:\\users\\juyon\\anaconda3\\lib\\site-packages (from imageio<3.0,>=2.5->moviepy) (9.4.0)\n",
      "Requirement already satisfied: setuptools in c:\\users\\juyon\\anaconda3\\lib\\site-packages (from imageio-ffmpeg>=0.2.0->moviepy) (68.0.0)\n",
      "Requirement already satisfied: charset-normalizer<4,>=2 in c:\\users\\juyon\\anaconda3\\lib\\site-packages (from requests<3.0,>=2.8.1->moviepy) (2.0.4)\n",
      "Requirement already satisfied: idna<4,>=2.5 in c:\\users\\juyon\\anaconda3\\lib\\site-packages (from requests<3.0,>=2.8.1->moviepy) (3.4)\n",
      "Requirement already satisfied: urllib3<3,>=1.21.1 in c:\\users\\juyon\\anaconda3\\lib\\site-packages (from requests<3.0,>=2.8.1->moviepy) (1.26.16)\n",
      "Requirement already satisfied: certifi>=2017.4.17 in c:\\users\\juyon\\anaconda3\\lib\\site-packages (from requests<3.0,>=2.8.1->moviepy) (2023.7.22)\n",
      "Requirement already satisfied: colorama in c:\\users\\juyon\\anaconda3\\lib\\site-packages (from tqdm<5.0,>=4.11.2->moviepy) (0.4.6)\n"
     ]
    }
   ],
   "source": [
    "!pip install audioread filetype moviepy"
   ]
  },
  {
   "cell_type": "code",
   "execution_count": 3,
   "metadata": {
    "id": "hH_fJ6hKKkMn"
   },
   "outputs": [],
   "source": [
    "import librosa\n",
    "import librosa.display\n",
    "import matplotlib.pyplot as plt\n",
    "import numpy as np\n",
    "import pandas as pd\n",
    "import os\n",
    "import matplotlib.animation as animation\n",
    "import soundfile as sf\n",
    "import base64\n",
    "\n",
    "import threading\n",
    "\n",
    "from IPython.display import Audio, display, HTML\n",
    "from matplotlib import rc\n",
    "from IPython.display import Video\n",
    "\n",
    "rc('animation', html='jshtml')"
   ]
  },
  {
   "cell_type": "code",
   "execution_count": 4,
   "metadata": {
    "id": "A49KoNFus452"
   },
   "outputs": [
    {
     "name": "stdout",
     "output_type": "stream",
     "text": [
      "File extension: mp3\n",
      "File MIME type: audio/mpeg\n",
      "File extension: mp3\n",
      "File MIME type: audio/mpeg\n",
      "File extension: mp3\n",
      "File MIME type: audio/mpeg\n"
     ]
    }
   ],
   "source": [
    "# 오디오 파일 경로\n",
    "import filetype\n",
    "from moviepy.editor import VideoFileClip\n",
    "\n",
    "file1 = 'C:/Users/juyon/Desktop/MyVersion/music_samples/저스디스mr제거.mp3'\n",
    "file2 = 'C:/Users/juyon/Desktop/MyVersion/music_samples/일반인_무반주.mp3'\n",
    "file3 = 'C:/Users/juyon/Desktop/MyVersion/music_samples/시은이.mp4'\n",
    "\n",
    "def convert_to_mp3(input_file, output_file):\n",
    "    try:\n",
    "        audio_clip = AudioFileClip(input_file)\n",
    "        audio_clip.write_audiofile(output_file, codec='mp3')\n",
    "        print(f\"Converted {input_file} to {output_file}\")\n",
    "    except Exception as e:\n",
    "        print(f\"Error converting {input_file} to MP3: {e}\")\n",
    "\n",
    "# 파일 형식 확인\n",
    "def check_and_convert(file_path):\n",
    "    kind = filetype.guess(file_path)\n",
    "    if kind is None:\n",
    "        print(f\"Cannot guess file type for {file_path}!\")\n",
    "        return file_path #변환하지 않고 원본파일 사용\n",
    "    print(f\"File extension: {kind.extension}\")\n",
    "    print(f\"File MIME type: {kind.mime}\")\n",
    "    \n",
    "    if kind.extension != 'mp3':\n",
    "        output_file = os.path.splitext(file_path)[0] + \".mp3\"\n",
    "        convert_to_mp3(file_path, output_file)\n",
    "        return output_file # 변환된 파일 경로 반환\n",
    "    else:\n",
    "        return file_path#이미 MP3인 경우 원본 파일 반환\n",
    "    \n",
    "file1 = check_and_convert(file1)\n",
    "file2 = check_and_convert(file2)\n",
    "file2 = check_and_convert(file2)\n",
    "    \n",
    "# 파일 확장자 문제 있었음. 음원 파일이 mp3가 아니라 mp4등의 비디오 파일인 경우는 librosa에서 지원하지 않으므로 moviepy를 이용해서 mp3로 변환 한 후에 사용\n",
    "# 파일 확장자만 바꾼다고 형식이 바뀌지는 않음."
   ]
  },
  {
   "cell_type": "code",
   "execution_count": null,
   "metadata": {
    "colab": {
     "base_uri": "https://localhost:8080/"
    },
    "id": "rwzEl462Kz71",
    "outputId": "2ebd6f84-3ea3-4cda-b19c-b89016c512ae",
    "scrolled": false
   },
   "outputs": [],
   "source": [
    "# 오디오 파일 로드\n",
    "y1, sr1 = librosa.load(file1)\n",
    "y2, sr2 = librosa.load(file2)\n",
    "y3, sr3 = librosa.load(file3)\n",
    "\n",
    "# 기본 주파수 추정\n",
    "f0, voiced_flag, voiced_probs = librosa.pyin(y1,sr=sr1, fmin = librosa.note_to_hz('C2'), fmax=librosa.note_to_hz('C7'))\n",
    "f0_2, voiced_flag_2, voiced_probs_2 = librosa.pyin(y2, sr = sr2, fmin = librosa.note_to_hz('C2'), fmax=librosa.note_to_hz('C7'))\n",
    "f0_3, voiced_flag_3, voiced_probs_3 = librosa.pyin(y3, sr = sr3, fmin = librosa.note_to_hz('C2'), fmax = librosa.note_to_hz('C7'))\n",
    "\n",
    "# NaN 값을 선형 보간법으로 채우기\n",
    "f0_interpolated = pd.Series(f0).interpolate().to_numpy()\n",
    "f0_2_interpolated = pd.Series(f0_2).interpolate().to_numpy()\n",
    "f0_3_interpolated = pd.Series(f0_3).interpolate().to_numpy()\n"
   ]
  },
  {
   "cell_type": "markdown",
   "metadata": {
    "id": "1FckfQQJQ7Bl"
   },
   "source": [
    "1옥타브\n",
    "C(도) 32\n",
    "D(레) 36\n",
    "E(미) 41\n",
    "F(파) 43\n",
    "G(솔) 48\n",
    "A(라) 55\n",
    "B(시) 61\n",
    "\n"
   ]
  },
  {
   "cell_type": "code",
   "execution_count": null,
   "metadata": {
    "colab": {
     "base_uri": "https://localhost:8080/",
     "height": 404
    },
    "id": "ZgZOzNU-QO72",
    "outputId": "81fdc37c-fdf3-426c-a893-bc89698262e4",
    "scrolled": true
   },
   "outputs": [],
   "source": [
    "from datetime import datetime\n",
    "# 정적인 그래프 처리용 백엔드 모드\n",
    "%matplotlib inline\n",
    "\n",
    "# 시간 축 계산\n",
    "times = librosa.times_like(f0, sr=sr1)\n",
    "times_2 = librosa.times_like(f0_2, sr=sr2)\n",
    "times_3 = librosa.times_like(f0_3, sr=sr3)\n",
    "\n",
    "# 그래프로 주파수 시각화\n",
    "plt.figure(figsize=(14, 6))\n",
    "plt.plot(times, f0_interpolated, label='Estimated F0 - File 1', color='r')\n",
    "plt.plot(times_2, f0_2_interpolated, label='Estimated F0 - File 2', color='b')\n",
    "# plt.plot(times_3, f0_3_interpolated, label='Estimated F0 - FIle 3', color = 'y')\n",
    "\n",
    "# plt.xlabel('Time (s)')\n",
    "# plt.ylabel('Hz')\n",
    "# plt.title('Fundamental Frequency Over Time')\n",
    "plt.ylim([librosa.note_to_hz('C2'), 650])\n",
    "\n",
    "current_time = datetime.now().strftime('%Y%m%d_%H%M%S') # 'YYYYMMDD_HHMMSS' 형식\n",
    "\n",
    "plt.savefig(f'sim_wave_{current_time}.png', dpi=300, facecolor='white', edgecolor='black',orientation='portrait', format='png', transparent=False, bbox_inches = 'tight', pad_inches=0.1)\n",
    "\n",
    "\n",
    "plt.show()"
   ]
  },
  {
   "cell_type": "code",
   "execution_count": null,
   "metadata": {},
   "outputs": [],
   "source": [
    "import json"
   ]
  },
  {
   "cell_type": "code",
   "execution_count": null,
   "metadata": {
    "id": "LioZfsC4T3zv",
    "scrolled": true
   },
   "outputs": [],
   "source": [
    "# 분석 위한 데이터 전처리\n",
    "def music_prep(music_1, music_2):\n",
    "  # 두 주파수 데이터의 최소 길이 맞추기\n",
    "  min_length = min(len(music_1), len(music_2))\n",
    "  music_1 = music_1[:min_length]\n",
    "  music_2 = music_2[:min_length]\n",
    "\n",
    "  # NaN 값이 있는 인덱스 제거\n",
    "  valid_idx = ~np.isnan(music_1) & ~np.isnan(music_2)\n",
    "  music_1_valid = music_1[valid_idx]\n",
    "  music_2_valid = music_2[valid_idx]\n",
    "  return music_1_valid, music_2_valid\n",
    "\n",
    "# 평균 유사도 계산\n",
    "def calc_similarity(music_1, music_2):\n",
    "  # 전처리\n",
    "  music_1, music_2 = music_prep(music_1, music_2)\n",
    "\n",
    "  # 두 주파수 값의 차이 계산\n",
    "  music_difference = np.abs(music_1 - music_2)\n",
    "\n",
    "  # 평균 절대 차이 계산\n",
    "  mean_difference = np.mean(music_difference)\n",
    "#   print(\"mean_difference:\", mean_difference)\n",
    "\n",
    "  # 최대 주파수 범위, 비교 기준인 music_1의 주파수 범위\n",
    "  freq_scope =  max(music_1) - min(music_1)\n",
    "#   print(\"freq:\", freq_scope)\n",
    "\n",
    "  # 평균 유사도 계산 (1-(평균 차이 / 주파수 범위))\n",
    "  similarity = (1 - (mean_difference / freq_scope)) * 100\n",
    "  similarity = round(similarity, 2)\n",
    "  print(f'The overall frequency similarity between the two audio files is approximately {similarity:.2f}%')\n",
    "  return similarity\n",
    "  \n",
    "\n",
    "\n",
    "# 가장 비슷한 부분, 가장 다른 부분 찾기\n",
    "def find_segment(music_1, music_2, sr, hop_length, time_length):\n",
    "  # 전처리\n",
    "  music_1, music_2 = music_prep(music_1, music_2)\n",
    "\n",
    "  # hop_length / sr = 한 프레임이 차지하는 시간\n",
    "  valid_duration_seconds = len(music_1) * hop_length / sr\n",
    "\n",
    "  # noticible_time_length (초) 만큼에 해당하는 프레임 갯수\n",
    "  frame_length = int(time_length / (hop_length / sr))\n",
    "\n",
    "  print(f'Duration of valid (non-NaN) data: {valid_duration_seconds:.2f} seconds')\n",
    "\n",
    "  # 두 주파수 값의 차이 계산\n",
    "  music_difference = np.abs(music_1 - music_2)\n",
    "\n",
    "  # 가장 큰 차이 값을 가지는 구간 찾기\n",
    "  max_diff = 0\n",
    "  max_index = 0\n",
    "  for i in range(len(music_difference) - frame_length +1):\n",
    "    current_diff = np.sum(music_difference[i:i+frame_length])\n",
    "    if current_diff > max_diff :\n",
    "      max_diff = current_diff\n",
    "      max_index = i\n",
    "  print(f'Maximum difference found in the frame range starting at index {max_index} with a total difference of {max_diff}')\n",
    "\n",
    "  # 가장 적은 차이 값을 가지는 구간 찾기\n",
    "  min_diff = 650 * 5\n",
    "  min_index = 0\n",
    "  for i in range(len(music_difference) - frame_length +1):\n",
    "    current_diff = np.sum(music_difference[i:i+frame_length])\n",
    "    if current_diff < min_diff :\n",
    "      min_diff = current_diff\n",
    "      min_index = i\n",
    "  print(f'Minimum difference found in the frame range starting at index {min_index} with a total difference of {min_diff}')\n",
    "\n",
    "  # 해당 구간의 시간대 계산\n",
    "  worst_time = max_index * hop_length / sr\n",
    "  best_time = min_index * hop_length / sr\n",
    "  \n",
    "  return worst_time, best_time, time_length\n"
   ]
  },
  {
   "cell_type": "code",
   "execution_count": null,
   "metadata": {
    "id": "r_qNQagurVek"
   },
   "outputs": [],
   "source": [
    "# def play_segment(file1, file2, start_time, end_time):\n",
    "#   #오디오 파일 로드\n",
    "#   audio1 = AudioSegment.from_file(file1)\n",
    "#   audio2 = AudioSegment.from_file(file2)\n",
    "\n",
    "#   #해당 시간 구간 추출\n",
    "#   seg1 = audio1[start_time * 1000:end_time*1000] # 시간이 밀리초 단위\n",
    "#   seg2 = audio2[start_time * 1000:end_time*1000] # 시간이 밀리초 단위\n",
    "\n",
    "#   # 재생 함수 정의\n",
    "#   def play_audio_segment(segment):\n",
    "#     play(segment)\n",
    "\n",
    "#   # 각각의 오디오 세그먼트를 재생할 스레드 생성\n",
    "#   thread1 = threading.Thread(target=play_audio_segment, args = (seg1,))\n",
    "#   thread2 = threading.Thread(target=play_audio_segment, args = (seg2,))\n",
    "\n",
    "\n",
    "#   # 스레드를 시작하여 동시에 재생\n",
    "#     thread2.start()  \n",
    "#     thread1.start()\n",
    "  "
   ]
  },
  {
   "cell_type": "code",
   "execution_count": null,
   "metadata": {
    "colab": {
     "base_uri": "https://localhost:8080/"
    },
    "id": "_zF8QloCrB96",
    "outputId": "7435b630-4340-4c14-81a1-6c9c70abe3fb"
   },
   "outputs": [],
   "source": [
    "# json 파일을 현재 폴더에 상대경로로 저장\n",
    "# 파일명 : sim_result_현재시각\n",
    "# 저장경로 : 현재 경로\n",
    "\n",
    "\n",
    "similarity = calc_similarity(music_1=f0_interpolated, music_2=f0_2_interpolated) # pyin defalut hop_length : 512\n",
    "worst_time, best_time, time_length = find_segment(music_1=f0_interpolated, music_2=f0_2_interpolated, sr = sr1, hop_length= 512, time_length=5) # pyin defalut hop_length : 512\n",
    "\n",
    "\n",
    "json_object = {\n",
    "      \"id\":current_time,\n",
    "      \"similarity\":round(similarity, 2),\n",
    "      \"worst_time\":worst_time,\n",
    "      \"best_time\":best_time,\n",
    "      \"time_length\":time_length\n",
    "}\n",
    "\n",
    "# current_time -> pyplot이미지와 동일한 시간 변수 사용\n",
    "file_name = f'sim_result_{current_time}.json'\n",
    "file_path = f'./{file_name}'\n",
    "\n",
    "with open(file_path, 'w') as json_file:\n",
    "    json.dump(json_object, json_file, indent=4) # indent 4 는 가독성을 위함.\n",
    "\n",
    "# 해당 구간 동시 재생\n",
    "#play_segment(file1, file2, start_time, end_time)"
   ]
  },
  {
   "cell_type": "code",
   "execution_count": null,
   "metadata": {
    "colab": {
     "base_uri": "https://localhost:8080/",
     "height": 1000
    },
    "id": "QnGWDjllqXP2",
    "outputId": "ff268292-27a9-4d42-c9e5-f7ffa56654f6"
   },
   "outputs": [],
   "source": [
    "# 애니메이션 처리를 위해 인터랙티브 모드로 전환\n",
    "%matplotlib notebook\n",
    "\n",
    "def create_animation(y, sr, f0_interpolated, times, label, color):\n",
    "    # 그래프 설정\n",
    "    fig, ax = plt.subplots()\n",
    "    ax.set_xlim(0, times[-1])\n",
    "    ax.set_ylim(librosa.note_to_hz('C2'), 650)\n",
    "    line, = ax.plot([], [], lw=2)\n",
    "\n",
    "    # 오디오 전체 길이 (초 단위)\n",
    "    audio_duration = len(y) / sr\n",
    "\n",
    "    # 프레임 수 줄이기 : 10%만 사용\n",
    "    reduced_frames = times[::10]\n",
    "    reduced_f0 = f0_interpolated[::10]\n",
    "\n",
    "    # 애니메이션 프레임 설정\n",
    "    num_frames = len(reduced_frames)\n",
    "\n",
    "    # 각 프레임 간격을 오디오 재생 시간에 맞게 조정\n",
    "    interval = audio_duration / num_frames * 1000  # 밀리초 단위로 변환\n",
    "\n",
    "    # 초기화 함수\n",
    "    def init():\n",
    "        line.set_data([], [])\n",
    "        return line,\n",
    "\n",
    "    # 업데이트 함수\n",
    "    def update(frame):\n",
    "        line.set_data(reduced_frames[:frame], reduced_f0[:frame])\n",
    "        return line,\n",
    "\n",
    "    # 라인 초기화\n",
    "    line, = ax.plot([], [], label=label, color=color)\n",
    "\n",
    "    # 애니메이션 생성\n",
    "    ani = animation.FuncAnimation(fig, update, frames=num_frames, init_func=init, blit=False, interval=interval, repeat=False)\n",
    "\n",
    "    anim_html = HTML(ani.to_jshtml())\n",
    "    audio = Audio(y, rate=sr)\n",
    "\n",
    "    return anim_html, audio\n",
    "\n",
    "# 오디오 파일 로드\n",
    "y1, sr1 = librosa.load('file1')\n",
    "y2, sr2 = librosa.load('file2')\n",
    "\n",
    "# 기본 주파수 추정\n",
    "f0, voiced_flag, voiced_probs = librosa.pyin(y1, sr=sr1, fmin=librosa.note_to_hz('C2'), fmax=librosa.note_to_hz('C7'))\n",
    "f0_2, voiced_flag_2, voiced_probs_2 = librosa.pyin(y2, sr=sr2, fmin=librosa.note_to_hz('C2'), fmax=librosa.note_to_hz('C7'))\n",
    "\n",
    "# NaN 값을 선형 보간법으로 채우기\n",
    "f0_interpolated = pd.Series(f0).interpolate().to_numpy()\n",
    "f0_2_interpolated = pd.Series(f0_2).interpolate().to_numpy()\n",
    "\n",
    "# 시간 축 계산\n",
    "times = librosa.times_like(f0, sr=sr1)\n",
    "times_2 = librosa.times_like(f0_2, sr=sr2)\n",
    "\n",
    "# 애니메이션 및 오디오 생성\n",
    "anim_html_1, audio_1 = create_animation(y1, sr1, f0_interpolated, times, 'Estimated F0 - File 1', 'r')\n",
    "anim_html_2, audio_2 = create_animation(y2, sr2, f0_2_interpolated, times_2, 'Estimated F0 - File 2', 'b')\n",
    "\n",
    "# 두 애니메이션과 오디오 플레이어를 표시\n",
    "display(anim_html_1, audio_1)\n",
    "display(anim_html_2, audio_2)"
   ]
  },
  {
   "cell_type": "code",
   "execution_count": null,
   "metadata": {
    "colab": {
     "base_uri": "https://localhost:8080/",
     "height": 490
    },
    "id": "SshAk0uXOiXY",
    "outputId": "21f63324-5a61-4277-ba81-2e6ce1c25f83"
   },
   "outputs": [],
   "source": [
    "# 스펙트로그램 표현\n",
    "D = librosa.amplitude_to_db(np.abs(librosa.stft(y1)), ref=np.max)\n",
    "fig, ax = plt.subplots()\n",
    "img = librosa.display.specshow(D, x_axis='time', y_axis='log', ax=ax)\n",
    "ax.set(title = 'pYIN fundamental frequency estimation')\n",
    "fig.colorbar(img, ax=ax, format=\"%+2.f dB\")\n",
    "ax.plot(times, f0, label='f0', color='cyan', linewidth=3)\n",
    "ax.legend(loc='upper right')"
   ]
  }
 ],
 "metadata": {
  "colab": {
   "provenance": []
  },
  "kernelspec": {
   "display_name": "Python 3 (ipykernel)",
   "language": "python",
   "name": "python3"
  },
  "language_info": {
   "codemirror_mode": {
    "name": "ipython",
    "version": 3
   },
   "file_extension": ".py",
   "mimetype": "text/x-python",
   "name": "python",
   "nbconvert_exporter": "python",
   "pygments_lexer": "ipython3",
   "version": "3.11.4"
  }
 },
 "nbformat": 4,
 "nbformat_minor": 1
}
